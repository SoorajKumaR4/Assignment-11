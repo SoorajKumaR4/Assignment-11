{
 "cells": [
  {
   "cell_type": "markdown",
   "id": "8f4411a1",
   "metadata": {},
   "source": [
    "1. Create an assert statement that throws an AssertionError if the variable spam is a negative integer.\n",
    "\n",
    "A. assert(spam <= 0, 'The spam variable is less than 0.')"
   ]
  },
  {
   "cell_type": "markdown",
   "id": "08075f6a",
   "metadata": {},
   "source": [
    "2. Write an assert statement that triggers an AssertionError if the variables eggs and bacon contain\n",
    "strings that are the same as each other, even if their cases are different (that is, ‘hello’ and ‘hello’ are\n",
    "considered the same, and ‘goodbye’ and ‘GOODbye’ are also considered the same).\n",
    "\n",
    "A. assert(eggs.lower() != bacon.lower(), 'The eggs and bacon variables are the same!') or assert(eggs.upper() != bacon.upper(), 'The eggs and bacon variables are the same!')"
   ]
  },
  {
   "cell_type": "markdown",
   "id": "6f373f82",
   "metadata": {},
   "source": [
    "3. Create an assert statement that throws an AssertionError every time.\n",
    "\n",
    "A. assert False, 'This assertion always triggers.'"
   ]
  },
  {
   "cell_type": "markdown",
   "id": "54af62f4",
   "metadata": {},
   "source": [
    "4. What are the two lines that must be present in your software in order to call logging.debug()?\n",
    "\n",
    "A.\n",
    "1. import logging\n",
    "2.  logging.basicConfig(level=logging.DEBUG, format=' %(asctime)s -\n",
    "%(levelname)s - %(message)s')"
   ]
  },
  {
   "cell_type": "markdown",
   "id": "dab4869f",
   "metadata": {},
   "source": [
    "5. What are the two lines that your program must have in order to have logging.debug() send a\n",
    "logging message to a file named programLog.txt?\n",
    "\n",
    "A. import logging logging.basicConfig(filename='programLog.txt', level=logging.DEBUG, format=' %(asctime)s - %(levelname)s - %(message)s')"
   ]
  },
  {
   "cell_type": "markdown",
   "id": "26647b9b",
   "metadata": {},
   "source": [
    "6. What are the five levels of logging?\n",
    "\n",
    "A. DEBUG, INFO, WARNING, ERROR, and CRITICAL"
   ]
  },
  {
   "cell_type": "markdown",
   "id": "7b27199c",
   "metadata": {},
   "source": [
    "7. What line of code would you add to your software to disable all logging messages?\n",
    "\n",
    "A. logging.disable(logging.CRITICAL)"
   ]
  },
  {
   "cell_type": "markdown",
   "id": "27fbac71",
   "metadata": {},
   "source": [
    "8.Why is using logging messages better than using print() to display the same message?\n",
    "\n",
    "A. You can disable logging messages without removing the logging function calls. You can selectively disable lower-level logging messages. You can create logging messages. Logging messages provides a timestamp."
   ]
  },
  {
   "cell_type": "markdown",
   "id": "ac0affe0",
   "metadata": {},
   "source": [
    "9. What are the differences between the Step Over, Step In, and Step Out buttons in the debugger?\n",
    "\n",
    "A. The Step button will move the debugger into a function call. The Over button will quickly execute the function call without stepping into it. The Step In is used for debugging the test steps line by line.  The Out button will quickly execute the rest of the code until it steps out of the function it currently is in."
   ]
  },
  {
   "cell_type": "markdown",
   "id": "973a9c91",
   "metadata": {},
   "source": [
    "10.After you click Continue, when will the debugger stop ?\n",
    "\n",
    "A. The debugger will stop when it has reached the end of the program or a line with a breakpoint."
   ]
  },
  {
   "cell_type": "markdown",
   "id": "2c4bda4d",
   "metadata": {},
   "source": [
    "11. What is the concept of a breakpoint?\n",
    "\n",
    "A. Breakpoint is a setting on a line of code that causes the debugger to pause when the program execution reaches the line."
   ]
  }
 ],
 "metadata": {
  "kernelspec": {
   "display_name": "Python 3 (ipykernel)",
   "language": "python",
   "name": "python3"
  },
  "language_info": {
   "codemirror_mode": {
    "name": "ipython",
    "version": 3
   },
   "file_extension": ".py",
   "mimetype": "text/x-python",
   "name": "python",
   "nbconvert_exporter": "python",
   "pygments_lexer": "ipython3",
   "version": "3.9.7"
  }
 },
 "nbformat": 4,
 "nbformat_minor": 5
}
